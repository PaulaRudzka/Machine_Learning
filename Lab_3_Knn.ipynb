{
 "cells": [
  {
   "cell_type": "markdown",
   "id": "e9b7f475",
   "metadata": {},
   "source": [
    "For the data from Lab 1 (S1, S2, m1, m2, n1, n2), plot the effectiveness of the k-nn classifier as a function of the number of nearest neighbors from nn=1 to nn=21. Do the same for the TP and TN values. Then draw an additional 10 points from class 1 and 5 points from class 2, treat them as a set of tets and repeat the graphs. If possible, perform averaging after 10 draws."
   ]
  },
  {
   "cell_type": "code",
   "execution_count": 60,
   "id": "c811fa26",
   "metadata": {},
   "outputs": [],
   "source": [
    "#importing Libraries\n",
    "import numpy as np\n",
    "import pandas as pd\n",
    "from sklearn.neighbors import KNeighborsClassifier\n",
    "import matplotlib.pyplot as plt"
   ]
  },
  {
   "cell_type": "code",
   "execution_count": 61,
   "id": "5f421a74",
   "metadata": {},
   "outputs": [],
   "source": [
    "#create data (Gaussian distribution) from two classes\n",
    "def draw_data(n1, n2, m1, m2, S1, S2):\n",
    "    data1 = np.random.multivariate_normal(m1, S1, n1)\n",
    "    data2 = np.random.multivariate_normal(m2, S2, n2)\n",
    "    data = np.concatenate((data1, data2), axis = 0)\n",
    "    data = pd.DataFrame(data, columns=[\"x\", \"y\"])\n",
    "    data[\"group\"] = np.repeat([0, 1], [n1, n2])\n",
    "    \n",
    "    return data\n",
    "\n",
    "m1, m2 = [-1, -1], [2, 2] #mean\n",
    "S1 = [[4, 2], [2, 4]] #covariance matrix\n",
    "S2 = [[4, 2], [2, 4]]\n",
    "n1, n2 = 30, 20 #number of points"
   ]
  },
  {
   "cell_type": "code",
   "execution_count": 62,
   "id": "d52a7897",
   "metadata": {},
   "outputs": [],
   "source": [
    "#building confusion matrix\n",
    "def CM_large(x, y): \n",
    "    cm = pd.crosstab(x, y) #basic cm\n",
    "    # print(cm)\n",
    "    tn, tp = np.diag(cm) #true negative, true positive\n",
    "    acc = np.diag(cm).sum() / cm.to_numpy().sum() #accuracy\n",
    "    \n",
    "    return [acc, tn, tp]"
   ]
  },
  {
   "cell_type": "code",
   "execution_count": 63,
   "id": "7d106250",
   "metadata": {},
   "outputs": [
    {
     "data": {
      "application/vnd.microsoft.datawrangler.viewer.v0+json": {
       "columns": [
        {
         "name": "index",
         "rawType": "int64",
         "type": "integer"
        },
        {
         "name": "x",
         "rawType": "float64",
         "type": "float"
        },
        {
         "name": "y",
         "rawType": "float64",
         "type": "float"
        },
        {
         "name": "group",
         "rawType": "int64",
         "type": "integer"
        }
       ],
       "ref": "efec3f56-96f7-4ad9-aa04-644fbfb88a57",
       "rows": [
        [
         "17",
         "0.9579330130979744",
         "2.7950827770364373",
         "0"
        ],
        [
         "9",
         "-3.6103429385207564",
         "-4.548971879197788",
         "0"
        ],
        [
         "10",
         "0.3942326559457823",
         "-0.8247063006359868",
         "0"
        ],
        [
         "16",
         "-1.7907308828416282",
         "-3.1232134152181064",
         "0"
        ],
        [
         "26",
         "-4.397649509422553",
         "-1.6190266261648874",
         "0"
        ],
        [
         "14",
         "1.4039954276663242",
         "-0.47304455722122773",
         "0"
        ],
        [
         "24",
         "-0.9989216903332059",
         "-0.2420763458650228",
         "0"
        ],
        [
         "8",
         "0.7877235622170726",
         "0.03133904673154242",
         "0"
        ],
        [
         "15",
         "-3.3889150180160836",
         "-0.22825179456505773",
         "0"
        ],
        [
         "7",
         "-2.515708997776721",
         "0.3844276903218393",
         "0"
        ],
        [
         "33",
         "0.01765314356869485",
         "-0.1722957866461683",
         "1"
        ],
        [
         "37",
         "1.2804394348698003",
         "3.6663053950225892",
         "1"
        ],
        [
         "38",
         "-1.366477176172948",
         "-0.2487586806023363",
         "1"
        ],
        [
         "32",
         "3.864834046699868",
         "5.110758817426973",
         "1"
        ],
        [
         "35",
         "3.392519923373414",
         "5.4355717532856325",
         "1"
        ]
       ],
       "shape": {
        "columns": 3,
        "rows": 15
       }
      },
      "text/html": [
       "<div>\n",
       "<style scoped>\n",
       "    .dataframe tbody tr th:only-of-type {\n",
       "        vertical-align: middle;\n",
       "    }\n",
       "\n",
       "    .dataframe tbody tr th {\n",
       "        vertical-align: top;\n",
       "    }\n",
       "\n",
       "    .dataframe thead th {\n",
       "        text-align: right;\n",
       "    }\n",
       "</style>\n",
       "<table border=\"1\" class=\"dataframe\">\n",
       "  <thead>\n",
       "    <tr style=\"text-align: right;\">\n",
       "      <th></th>\n",
       "      <th>x</th>\n",
       "      <th>y</th>\n",
       "      <th>group</th>\n",
       "    </tr>\n",
       "  </thead>\n",
       "  <tbody>\n",
       "    <tr>\n",
       "      <th>17</th>\n",
       "      <td>0.957933</td>\n",
       "      <td>2.795083</td>\n",
       "      <td>0</td>\n",
       "    </tr>\n",
       "    <tr>\n",
       "      <th>9</th>\n",
       "      <td>-3.610343</td>\n",
       "      <td>-4.548972</td>\n",
       "      <td>0</td>\n",
       "    </tr>\n",
       "    <tr>\n",
       "      <th>10</th>\n",
       "      <td>0.394233</td>\n",
       "      <td>-0.824706</td>\n",
       "      <td>0</td>\n",
       "    </tr>\n",
       "    <tr>\n",
       "      <th>16</th>\n",
       "      <td>-1.790731</td>\n",
       "      <td>-3.123213</td>\n",
       "      <td>0</td>\n",
       "    </tr>\n",
       "    <tr>\n",
       "      <th>26</th>\n",
       "      <td>-4.397650</td>\n",
       "      <td>-1.619027</td>\n",
       "      <td>0</td>\n",
       "    </tr>\n",
       "    <tr>\n",
       "      <th>14</th>\n",
       "      <td>1.403995</td>\n",
       "      <td>-0.473045</td>\n",
       "      <td>0</td>\n",
       "    </tr>\n",
       "    <tr>\n",
       "      <th>24</th>\n",
       "      <td>-0.998922</td>\n",
       "      <td>-0.242076</td>\n",
       "      <td>0</td>\n",
       "    </tr>\n",
       "    <tr>\n",
       "      <th>8</th>\n",
       "      <td>0.787724</td>\n",
       "      <td>0.031339</td>\n",
       "      <td>0</td>\n",
       "    </tr>\n",
       "    <tr>\n",
       "      <th>15</th>\n",
       "      <td>-3.388915</td>\n",
       "      <td>-0.228252</td>\n",
       "      <td>0</td>\n",
       "    </tr>\n",
       "    <tr>\n",
       "      <th>7</th>\n",
       "      <td>-2.515709</td>\n",
       "      <td>0.384428</td>\n",
       "      <td>0</td>\n",
       "    </tr>\n",
       "    <tr>\n",
       "      <th>33</th>\n",
       "      <td>0.017653</td>\n",
       "      <td>-0.172296</td>\n",
       "      <td>1</td>\n",
       "    </tr>\n",
       "    <tr>\n",
       "      <th>37</th>\n",
       "      <td>1.280439</td>\n",
       "      <td>3.666305</td>\n",
       "      <td>1</td>\n",
       "    </tr>\n",
       "    <tr>\n",
       "      <th>38</th>\n",
       "      <td>-1.366477</td>\n",
       "      <td>-0.248759</td>\n",
       "      <td>1</td>\n",
       "    </tr>\n",
       "    <tr>\n",
       "      <th>32</th>\n",
       "      <td>3.864834</td>\n",
       "      <td>5.110759</td>\n",
       "      <td>1</td>\n",
       "    </tr>\n",
       "    <tr>\n",
       "      <th>35</th>\n",
       "      <td>3.392520</td>\n",
       "      <td>5.435572</td>\n",
       "      <td>1</td>\n",
       "    </tr>\n",
       "  </tbody>\n",
       "</table>\n",
       "</div>"
      ],
      "text/plain": [
       "           x         y  group\n",
       "17  0.957933  2.795083      0\n",
       "9  -3.610343 -4.548972      0\n",
       "10  0.394233 -0.824706      0\n",
       "16 -1.790731 -3.123213      0\n",
       "26 -4.397650 -1.619027      0\n",
       "14  1.403995 -0.473045      0\n",
       "24 -0.998922 -0.242076      0\n",
       "8   0.787724  0.031339      0\n",
       "15 -3.388915 -0.228252      0\n",
       "7  -2.515709  0.384428      0\n",
       "33  0.017653 -0.172296      1\n",
       "37  1.280439  3.666305      1\n",
       "38 -1.366477 -0.248759      1\n",
       "32  3.864834  5.110759      1\n",
       "35  3.392520  5.435572      1"
      ]
     },
     "execution_count": 63,
     "metadata": {},
     "output_type": "execute_result"
    }
   ],
   "source": [
    "data_test1 = data[y == 0].sample(n=10)\n",
    "data_test2 = data[y == 1].sample(n=5)\n",
    "data_test=pd.concat([data_test1,data_test2])\n",
    "y_test=data_test.group\n",
    "X_test=data_test[[\"x\", \"y\"]]\n",
    "\n",
    "data_test"
   ]
  },
  {
   "cell_type": "code",
   "execution_count": 64,
   "id": "530d74e5",
   "metadata": {},
   "outputs": [
    {
     "data": {
      "application/vnd.microsoft.datawrangler.viewer.v0+json": {
       "columns": [
        {
         "name": "index",
         "rawType": "int64",
         "type": "integer"
        },
        {
         "name": "x",
         "rawType": "float64",
         "type": "float"
        },
        {
         "name": "y",
         "rawType": "float64",
         "type": "float"
        },
        {
         "name": "group",
         "rawType": "int64",
         "type": "integer"
        }
       ],
       "ref": "27b81aef-05be-42d4-93b6-9c1ca3968ca2",
       "rows": [
        [
         "0",
         "1.3158501037690598",
         "0.9459310037901907",
         "0"
        ],
        [
         "1",
         "-0.9819424361341649",
         "-3.41262061923101",
         "0"
        ],
        [
         "2",
         "0.7165498388220417",
         "-1.2483443854381457",
         "0"
        ],
        [
         "3",
         "-2.9627033928501634",
         "0.34909977862851727",
         "0"
        ],
        [
         "4",
         "3.0428592132997636",
         "3.3929920687715365",
         "0"
        ],
        [
         "5",
         "0.5056307925973229",
         "-1.2189432097035153",
         "0"
        ],
        [
         "6",
         "-2.49270696583243",
         "-1.1728328461002648",
         "0"
        ],
        [
         "7",
         "2.4176955284329136",
         "1.475324521601562",
         "0"
        ],
        [
         "8",
         "-5.741287291113036",
         "-0.9207625088369346",
         "0"
        ],
        [
         "9",
         "-1.8818277126856349",
         "-4.550206767062502",
         "0"
        ],
        [
         "10",
         "3.4113932307595194",
         "2.3090497994853054",
         "1"
        ],
        [
         "11",
         "1.2640882478381341",
         "2.761583382198634",
         "1"
        ],
        [
         "12",
         "1.8835945082755958",
         "1.2552801809305731",
         "1"
        ],
        [
         "13",
         "-0.05160556198574273",
         "-1.5455650767191327",
         "1"
        ],
        [
         "14",
         "0.5652074211773686",
         "0.5672175024014148",
         "1"
        ]
       ],
       "shape": {
        "columns": 3,
        "rows": 15
       }
      },
      "text/html": [
       "<div>\n",
       "<style scoped>\n",
       "    .dataframe tbody tr th:only-of-type {\n",
       "        vertical-align: middle;\n",
       "    }\n",
       "\n",
       "    .dataframe tbody tr th {\n",
       "        vertical-align: top;\n",
       "    }\n",
       "\n",
       "    .dataframe thead th {\n",
       "        text-align: right;\n",
       "    }\n",
       "</style>\n",
       "<table border=\"1\" class=\"dataframe\">\n",
       "  <thead>\n",
       "    <tr style=\"text-align: right;\">\n",
       "      <th></th>\n",
       "      <th>x</th>\n",
       "      <th>y</th>\n",
       "      <th>group</th>\n",
       "    </tr>\n",
       "  </thead>\n",
       "  <tbody>\n",
       "    <tr>\n",
       "      <th>0</th>\n",
       "      <td>1.315850</td>\n",
       "      <td>0.945931</td>\n",
       "      <td>0</td>\n",
       "    </tr>\n",
       "    <tr>\n",
       "      <th>1</th>\n",
       "      <td>-0.981942</td>\n",
       "      <td>-3.412621</td>\n",
       "      <td>0</td>\n",
       "    </tr>\n",
       "    <tr>\n",
       "      <th>2</th>\n",
       "      <td>0.716550</td>\n",
       "      <td>-1.248344</td>\n",
       "      <td>0</td>\n",
       "    </tr>\n",
       "    <tr>\n",
       "      <th>3</th>\n",
       "      <td>-2.962703</td>\n",
       "      <td>0.349100</td>\n",
       "      <td>0</td>\n",
       "    </tr>\n",
       "    <tr>\n",
       "      <th>4</th>\n",
       "      <td>3.042859</td>\n",
       "      <td>3.392992</td>\n",
       "      <td>0</td>\n",
       "    </tr>\n",
       "    <tr>\n",
       "      <th>5</th>\n",
       "      <td>0.505631</td>\n",
       "      <td>-1.218943</td>\n",
       "      <td>0</td>\n",
       "    </tr>\n",
       "    <tr>\n",
       "      <th>6</th>\n",
       "      <td>-2.492707</td>\n",
       "      <td>-1.172833</td>\n",
       "      <td>0</td>\n",
       "    </tr>\n",
       "    <tr>\n",
       "      <th>7</th>\n",
       "      <td>2.417696</td>\n",
       "      <td>1.475325</td>\n",
       "      <td>0</td>\n",
       "    </tr>\n",
       "    <tr>\n",
       "      <th>8</th>\n",
       "      <td>-5.741287</td>\n",
       "      <td>-0.920763</td>\n",
       "      <td>0</td>\n",
       "    </tr>\n",
       "    <tr>\n",
       "      <th>9</th>\n",
       "      <td>-1.881828</td>\n",
       "      <td>-4.550207</td>\n",
       "      <td>0</td>\n",
       "    </tr>\n",
       "    <tr>\n",
       "      <th>10</th>\n",
       "      <td>3.411393</td>\n",
       "      <td>2.309050</td>\n",
       "      <td>1</td>\n",
       "    </tr>\n",
       "    <tr>\n",
       "      <th>11</th>\n",
       "      <td>1.264088</td>\n",
       "      <td>2.761583</td>\n",
       "      <td>1</td>\n",
       "    </tr>\n",
       "    <tr>\n",
       "      <th>12</th>\n",
       "      <td>1.883595</td>\n",
       "      <td>1.255280</td>\n",
       "      <td>1</td>\n",
       "    </tr>\n",
       "    <tr>\n",
       "      <th>13</th>\n",
       "      <td>-0.051606</td>\n",
       "      <td>-1.545565</td>\n",
       "      <td>1</td>\n",
       "    </tr>\n",
       "    <tr>\n",
       "      <th>14</th>\n",
       "      <td>0.565207</td>\n",
       "      <td>0.567218</td>\n",
       "      <td>1</td>\n",
       "    </tr>\n",
       "  </tbody>\n",
       "</table>\n",
       "</div>"
      ],
      "text/plain": [
       "           x         y  group\n",
       "0   1.315850  0.945931      0\n",
       "1  -0.981942 -3.412621      0\n",
       "2   0.716550 -1.248344      0\n",
       "3  -2.962703  0.349100      0\n",
       "4   3.042859  3.392992      0\n",
       "5   0.505631 -1.218943      0\n",
       "6  -2.492707 -1.172833      0\n",
       "7   2.417696  1.475325      0\n",
       "8  -5.741287 -0.920763      0\n",
       "9  -1.881828 -4.550207      0\n",
       "10  3.411393  2.309050      1\n",
       "11  1.264088  2.761583      1\n",
       "12  1.883595  1.255280      1\n",
       "13 -0.051606 -1.545565      1\n",
       "14  0.565207  0.567218      1"
      ]
     },
     "execution_count": 64,
     "metadata": {},
     "output_type": "execute_result"
    }
   ],
   "source": [
    "data_test = draw_data(10, 5, m1, m2, S1, S2)\n",
    "X_test=data_test[[\"x\", \"y\"]]\n",
    "y_test=data_test.group\n",
    "\n",
    "data_test"
   ]
  },
  {
   "cell_type": "code",
   "execution_count": 65,
   "id": "a369fd7d",
   "metadata": {},
   "outputs": [],
   "source": [
    "#nn - nearest neighbours\n",
    "nn=np.arange(1,22)\n",
    "\n",
    "#empty np arrays\n",
    "knn_all=np.zeros(shape=(22,3))\n",
    "knn_all_test=np.zeros(shape=(22,3))\n",
    "\n",
    "\n",
    "for i in range(10): #running results 10 times to get mean\n",
    "    #creating data \n",
    "    data = draw_data(n1, n2, m1, m2, S1, S2)\n",
    "    X = data[[\"x\", \"y\"]]\n",
    "    y = data.group\n",
    "\n",
    "    # option 1 - generation of new points for the test\n",
    "    data_test = draw_data(10, 5, m1, m2, S1, S2)\n",
    "    X_test=data_test[[\"x\", \"y\"]]\n",
    "    y_test=data_test.group\n",
    "    \n",
    "    #option 2 - checking on a smaller number of points from an already existing pool\n",
    "    # data_test1 = data[y == 0].sample(n=10)\n",
    "    # data_test2 = data[y == 1].sample(n=5)\n",
    "    # data_test=pd.concat([data_test1,data_test2])\n",
    "    # y_test=data_test.group\n",
    "    # X_test=data_test[[\"x\", \"y\"]]\n",
    "\n",
    "    knn_data=np.zeros(shape=(22,3))\n",
    "    knn_data_test=np.zeros(shape=(22,3))\n",
    "    \n",
    "    for j in nn:\n",
    "        knn = KNeighborsClassifier(n_neighbors = j)\n",
    "        knn.fit(X, y)\n",
    "        klasy_knn = knn.predict(X)\n",
    "        klasy_knn_test=knn.predict(X_test)\n",
    "        knn_data[j] = (CM_large(y,klasy_knn))\n",
    "        knn_data_test[j] = (CM_large(y_test,klasy_knn_test))\n",
    "    knn_all=np.add(knn_all,knn_data)\n",
    "    knn_all_test=np.add(knn_all_test,knn_data_test)\n",
    "knn_all=knn_all/10\n",
    "knn_all_test=knn_all_test/10\n"
   ]
  },
  {
   "cell_type": "code",
   "execution_count": 66,
   "id": "f6b62baa",
   "metadata": {},
   "outputs": [],
   "source": [
    "#results based on original data\n",
    "df = pd.DataFrame(knn_all, columns =['acc', 'tn', 'tp'], dtype = float)\n",
    "df=df.drop([0])\n",
    "# print(df)\n",
    "\n",
    "#results based on test data\n",
    "df1 = pd.DataFrame(knn_all_test, columns =['acc', 'tn', 'tp'], dtype = float)\n",
    "df1=df1.drop([0])\n",
    "# print(df1)"
   ]
  },
  {
   "cell_type": "code",
   "execution_count": 67,
   "id": "e5cc8091",
   "metadata": {},
   "outputs": [
    {
     "data": {
      "image/png": "[encoded data removed]",
      "text/plain": [
       "<Figure size 1300x300 with 2 Axes>"
      ]
     },
     "metadata": {},
     "output_type": "display_data"
    }
   ],
   "source": [
    "# plotting accuracy\n",
    "\n",
    "plt.figure(figsize=(13,3))\n",
    "\n",
    "plt.subplot(1,2,1)\n",
    "df['acc'].plot(style=\".\")\n",
    "plt.title(\"accuracy - original dataset\")\n",
    "plt.xlabel('nn')\n",
    "plt.ylabel('accuracy')\n",
    "plt.subplot(1,2,2)\n",
    "df1['acc'].plot(style=\".\")\n",
    "plt.title(\"accuracy - test dataset\")\n",
    "plt.xlabel('nn')\n",
    "plt.ylabel('accuracy')\n",
    "plt.show()"
   ]
  },
  {
   "cell_type": "code",
   "execution_count": 68,
   "id": "dd86b819",
   "metadata": {},
   "outputs": [
    {
     "data": {
      "image/png": "[encoded data removed]",
      "text/plain": [
       "<Figure size 1300x300 with 2 Axes>"
      ]
     },
     "metadata": {},
     "output_type": "display_data"
    }
   ],
   "source": [
    "# plotting true negative \n",
    "plt.figure(figsize=(13,3))\n",
    "\n",
    "plt.subplot(1,2,1)\n",
    "df['tn'].plot(style=\".\")\n",
    "plt.title(\"tn - original dataset\")\n",
    "plt.xlabel('nn')\n",
    "plt.ylabel('tn')\n",
    "plt.subplot(1,2,2)\n",
    "df1['tn'].plot(style=\".\")\n",
    "plt.title(\"tn - test dataset\")\n",
    "plt.xlabel('nn')\n",
    "plt.ylabel('tn')\n",
    "plt.show()"
   ]
  },
  {
   "cell_type": "code",
   "execution_count": 69,
   "id": "4c45b9f0",
   "metadata": {},
   "outputs": [
    {
     "data": {
      "image/png": "[encoded data removed]",
      "text/plain": [
       "<Figure size 1300x300 with 2 Axes>"
      ]
     },
     "metadata": {},
     "output_type": "display_data"
    }
   ],
   "source": [
    "# plotting true positive\n",
    "plt.figure(figsize=(13,3))\n",
    "\n",
    "plt.subplot(1,2,1)\n",
    "df['tp'].plot(style=\".\")\n",
    "plt.title(\"tp - original dataset\")\n",
    "plt.xlabel('nn')\n",
    "plt.ylabel('tp')\n",
    "plt.subplot(1,2,2)\n",
    "df1['tp'].plot(style=\".\")\n",
    "plt.title(\"tp - test dataset\")\n",
    "plt.xlabel('nn')\n",
    "plt.ylabel('tp')\n",
    "plt.show()"
   ]
  },
  {
   "cell_type": "markdown",
   "id": "ad8499a2",
   "metadata": {},
   "source": [
    "results: when test dataset is baset on original dataset - model 'remembers' results, accuracy==1 with 1 nn and gets worse with nn increasing.\n",
    "using different data in model validation shows real results - which are better when nn is high. "
   ]
  }
 ],
 "metadata": {
  "kernelspec": {
   "display_name": "venv",
   "language": "python",
   "name": "python3"
  },
  "language_info": {
   "codemirror_mode": {
    "name": "ipython",
    "version": 3
   },
   "file_extension": ".py",
   "mimetype": "text/x-python",
   "name": "python",
   "nbconvert_exporter": "python",
   "pygments_lexer": "ipython3",
   "version": "3.11.5"
  }
 },
 "nbformat": 4,
 "nbformat_minor": 5
}
