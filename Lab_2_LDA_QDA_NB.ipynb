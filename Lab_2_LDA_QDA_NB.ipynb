{
 "cells": [
  {
   "cell_type": "markdown",
   "id": "e3d9dc8e",
   "metadata": {},
   "source": [
    "LDA, QDA, NB on wine dataset"
   ]
  },
  {
   "cell_type": "code",
   "execution_count": 38,
   "id": "3403d2c2",
   "metadata": {},
   "outputs": [],
   "source": [
    "# importing libraries\n",
    "import numpy as np\n",
    "import requests\n",
    "import pandas as pd\n",
    "from sklearn import metrics\n",
    "import matplotlib.pyplot as plt\n",
    "\n",
    "from sklearn.model_selection import train_test_split\n",
    "from sklearn.model_selection import KFold\n",
    "from sklearn.model_selection import cross_val_score\n",
    "from sklearn.model_selection import RepeatedKFold\n",
    "\n",
    "from sklearn.discriminant_analysis import LinearDiscriminantAnalysis\n",
    "from sklearn.discriminant_analysis import QuadraticDiscriminantAnalysis\n",
    "from sklearn.naive_bayes import GaussianNB"
   ]
  },
  {
   "cell_type": "markdown",
   "id": "7955b8fb",
   "metadata": {},
   "source": [
    "read dataset "
   ]
  },
  {
   "cell_type": "code",
   "execution_count": null,
   "id": "ad1010e0",
   "metadata": {},
   "outputs": [],
   "source": [
    "# data description: https://archive.ics.uci.edu/ml/machine-learning-databases/wine/wine.names\n",
    "url = \"https://archive.ics.uci.edu/ml/machine-learning-databases/wine/wine.data\"\n",
    "\n",
    "data = pd.read_csv(\n",
    "    url,\n",
    "    sep=',',\n",
    "    encoding='utf-8',\n",
    "    names = ['alcohol','malic_acid','ash','alcalinity','magnesium','total_phenols','flavanoids','nonflavanoid_phenols','proanthocyanins','color_intensity','hue','code','proline']\n",
    ")"
   ]
  },
  {
   "cell_type": "markdown",
   "id": "64a37020",
   "metadata": {},
   "source": [
    "compare LDA, QDA, NB on full dataset"
   ]
  },
  {
   "cell_type": "code",
   "execution_count": 40,
   "id": "cb82cb64",
   "metadata": {},
   "outputs": [],
   "source": [
    "lda = LinearDiscriminantAnalysis()\n",
    "qda = QuadraticDiscriminantAnalysis()\n",
    "nb = GaussianNB()"
   ]
  },
  {
   "cell_type": "code",
   "execution_count": null,
   "id": "834bf3c6",
   "metadata": {},
   "outputs": [],
   "source": [
    "# building extended confusion matrix \n",
    "\n",
    "def CM_large(x, y):   \n",
    "    cm = pd.crosstab(x, y)\n",
    "    print(cm)\n",
    "    FP = cm.sum(axis = 0)  - np.diag(cm)\n",
    "    FN = cm.sum(axis = 1)  - np.diag(cm)\n",
    "    TP = np.diag(cm)\n",
    "    TN = cm.sum().sum() - (FP + FN + TP)\n",
    "\n",
    "\n",
    "    TPR = TP/(TP+FN) #recall, sensitivity\n",
    "    TNR = TN/(FP+TN) #specifity, selectivity\n",
    "    \n",
    "    PPV = TP/(TP+FP) #precision\n",
    "    NPV = TN/(TN+FN)\n",
    "\n",
    "    FPR = FP/(FP+TN)\n",
    "    ACC = (TP+TN)/(TP+FP+FN+TN)\n",
    "\n",
    "\n",
    "    return np.mean(ACC), np.mean(FPR), np.mean(TPR), np.mean(PPV), np.mean(NPV)\n"
   ]
  },
  {
   "cell_type": "code",
   "execution_count": 42,
   "id": "2bafacc6",
   "metadata": {},
   "outputs": [],
   "source": [
    "# building function to display extended CM for each model\n",
    "def params_display(M):\n",
    "    for clf in [lda, qda, nb]:\n",
    "        clf.fit(data.iloc[:, 0:M], data.index)\n",
    "        \n",
    "    preds = pd.DataFrame(np.array([clf.predict(data.iloc[:, 0:M]) for clf in [lda, qda, nb]]).T)\n",
    "    preds.columns = [\"lda\", \"qda\", \"nb\"]\n",
    "    res = pd.DataFrame([CM_large(data.index, preds[i]) for i in preds.columns])\n",
    "\n",
    "    res.index = preds.columns\n",
    "    res.columns = [\"acc\", \"fpr\", \"tpr\", \"ppv\", \"npv\"]\n",
    "    res.columns.name = str(M) + ' columns'\n",
    "    display(res.sort_values('acc', ascending=False))"
   ]
  },
  {
   "cell_type": "code",
   "execution_count": 43,
   "id": "32047f9d",
   "metadata": {},
   "outputs": [
    {
     "name": "stdout",
     "output_type": "stream",
     "text": [
      "lda     1   2   3\n",
      "row_0            \n",
      "1      59   0   0\n",
      "2       0  71   0\n",
      "3       0   0  48\n",
      "qda     1   2   3\n",
      "row_0            \n",
      "1      59   0   0\n",
      "2       1  70   0\n",
      "3       0   0  48\n",
      "nb      1   2   3\n",
      "row_0            \n",
      "1      58   1   0\n",
      "2       0  70   1\n",
      "3       0   0  48\n"
     ]
    },
    {
     "data": {
      "application/vnd.microsoft.datawrangler.viewer.v0+json": {
       "columns": [
        {
         "name": "index",
         "rawType": "object",
         "type": "string"
        },
        {
         "name": "acc",
         "rawType": "float64",
         "type": "float"
        },
        {
         "name": "fpr",
         "rawType": "float64",
         "type": "float"
        },
        {
         "name": "tpr",
         "rawType": "float64",
         "type": "float"
        },
        {
         "name": "ppv",
         "rawType": "float64",
         "type": "float"
        },
        {
         "name": "npv",
         "rawType": "float64",
         "type": "float"
        }
       ],
       "ref": "9cb1e695-8edf-4a0b-b7f0-e3987281681a",
       "rows": [
        [
         "lda",
         "1.0",
         "0.0",
         "1.0",
         "1.0",
         "1.0"
        ],
        [
         "qda",
         "0.99625468164794",
         "0.0028011204481792717",
         "0.9953051643192489",
         "0.9944444444444445",
         "0.9969135802469135"
        ],
        [
         "nb",
         "0.9925093632958801",
         "0.005679367361610353",
         "0.9896554468051245",
         "0.9885024432308134",
         "0.9941069574247144"
        ]
       ],
       "shape": {
        "columns": 5,
        "rows": 3
       }
      },
      "text/html": [
       "<div>\n",
       "<style scoped>\n",
       "    .dataframe tbody tr th:only-of-type {\n",
       "        vertical-align: middle;\n",
       "    }\n",
       "\n",
       "    .dataframe tbody tr th {\n",
       "        vertical-align: top;\n",
       "    }\n",
       "\n",
       "    .dataframe thead th {\n",
       "        text-align: right;\n",
       "    }\n",
       "</style>\n",
       "<table border=\"1\" class=\"dataframe\">\n",
       "  <thead>\n",
       "    <tr style=\"text-align: right;\">\n",
       "      <th>13 columns</th>\n",
       "      <th>acc</th>\n",
       "      <th>fpr</th>\n",
       "      <th>tpr</th>\n",
       "      <th>ppv</th>\n",
       "      <th>npv</th>\n",
       "    </tr>\n",
       "  </thead>\n",
       "  <tbody>\n",
       "    <tr>\n",
       "      <th>lda</th>\n",
       "      <td>1.000000</td>\n",
       "      <td>0.000000</td>\n",
       "      <td>1.000000</td>\n",
       "      <td>1.000000</td>\n",
       "      <td>1.000000</td>\n",
       "    </tr>\n",
       "    <tr>\n",
       "      <th>qda</th>\n",
       "      <td>0.996255</td>\n",
       "      <td>0.002801</td>\n",
       "      <td>0.995305</td>\n",
       "      <td>0.994444</td>\n",
       "      <td>0.996914</td>\n",
       "    </tr>\n",
       "    <tr>\n",
       "      <th>nb</th>\n",
       "      <td>0.992509</td>\n",
       "      <td>0.005679</td>\n",
       "      <td>0.989655</td>\n",
       "      <td>0.988502</td>\n",
       "      <td>0.994107</td>\n",
       "    </tr>\n",
       "  </tbody>\n",
       "</table>\n",
       "</div>"
      ],
      "text/plain": [
       "13 columns       acc       fpr       tpr       ppv       npv\n",
       "lda         1.000000  0.000000  1.000000  1.000000  1.000000\n",
       "qda         0.996255  0.002801  0.995305  0.994444  0.996914\n",
       "nb          0.992509  0.005679  0.989655  0.988502  0.994107"
      ]
     },
     "metadata": {},
     "output_type": "display_data"
    }
   ],
   "source": [
    "# LDA wins - always gets right category\n",
    "params_display(13)"
   ]
  },
  {
   "cell_type": "markdown",
   "id": "38f83da2",
   "metadata": {},
   "source": [
    "compare LDA, QDA, NB for 2/5/10 first cols"
   ]
  },
  {
   "cell_type": "code",
   "execution_count": 44,
   "id": "b982af94",
   "metadata": {},
   "outputs": [
    {
     "name": "stdout",
     "output_type": "stream",
     "text": [
      "lda     1   2   3\n",
      "row_0            \n",
      "1      51   1   7\n",
      "2       5  61   5\n",
      "3       7   9  32\n",
      "qda     1   2   3\n",
      "row_0            \n",
      "1      52   1   6\n",
      "2       4  62   5\n",
      "3       7  10  31\n",
      "nb      1   2   3\n",
      "row_0            \n",
      "1      51   1   7\n",
      "2       4  62   5\n",
      "3       7  10  31\n"
     ]
    },
    {
     "data": {
      "application/vnd.microsoft.datawrangler.viewer.v0+json": {
       "columns": [
        {
         "name": "index",
         "rawType": "object",
         "type": "string"
        },
        {
         "name": "acc",
         "rawType": "float64",
         "type": "float"
        },
        {
         "name": "fpr",
         "rawType": "float64",
         "type": "float"
        },
        {
         "name": "tpr",
         "rawType": "float64",
         "type": "float"
        },
        {
         "name": "ppv",
         "rawType": "float64",
         "type": "float"
        },
        {
         "name": "npv",
         "rawType": "float64",
         "type": "float"
        }
       ],
       "ref": "0f5905ee-a74e-4c5d-92b7-1b15943507a3",
       "rows": [
        [
         "qda",
         "0.8764044943820224",
         "0.09328536590768588",
         "0.8001429007188139",
         "0.8042690439950714",
         "0.9094720496894411"
        ],
        [
         "lda",
         "0.8726591760299626",
         "0.09553532412245991",
         "0.7967427919683828",
         "0.7986504887913339",
         "0.905857951202945"
        ],
        [
         "nb",
         "0.8726591760299626",
         "0.09584946847178843",
         "0.7944931832046896",
         "0.7976086487375268",
         "0.9064647570394696"
        ]
       ],
       "shape": {
        "columns": 5,
        "rows": 3
       }
      },
      "text/html": [
       "<div>\n",
       "<style scoped>\n",
       "    .dataframe tbody tr th:only-of-type {\n",
       "        vertical-align: middle;\n",
       "    }\n",
       "\n",
       "    .dataframe tbody tr th {\n",
       "        vertical-align: top;\n",
       "    }\n",
       "\n",
       "    .dataframe thead th {\n",
       "        text-align: right;\n",
       "    }\n",
       "</style>\n",
       "<table border=\"1\" class=\"dataframe\">\n",
       "  <thead>\n",
       "    <tr style=\"text-align: right;\">\n",
       "      <th>2 columns</th>\n",
       "      <th>acc</th>\n",
       "      <th>fpr</th>\n",
       "      <th>tpr</th>\n",
       "      <th>ppv</th>\n",
       "      <th>npv</th>\n",
       "    </tr>\n",
       "  </thead>\n",
       "  <tbody>\n",
       "    <tr>\n",
       "      <th>qda</th>\n",
       "      <td>0.876404</td>\n",
       "      <td>0.093285</td>\n",
       "      <td>0.800143</td>\n",
       "      <td>0.804269</td>\n",
       "      <td>0.909472</td>\n",
       "    </tr>\n",
       "    <tr>\n",
       "      <th>lda</th>\n",
       "      <td>0.872659</td>\n",
       "      <td>0.095535</td>\n",
       "      <td>0.796743</td>\n",
       "      <td>0.798650</td>\n",
       "      <td>0.905858</td>\n",
       "    </tr>\n",
       "    <tr>\n",
       "      <th>nb</th>\n",
       "      <td>0.872659</td>\n",
       "      <td>0.095849</td>\n",
       "      <td>0.794493</td>\n",
       "      <td>0.797609</td>\n",
       "      <td>0.906465</td>\n",
       "    </tr>\n",
       "  </tbody>\n",
       "</table>\n",
       "</div>"
      ],
      "text/plain": [
       "2 columns       acc       fpr       tpr       ppv       npv\n",
       "qda        0.876404  0.093285  0.800143  0.804269  0.909472\n",
       "lda        0.872659  0.095535  0.796743  0.798650  0.905858\n",
       "nb         0.872659  0.095849  0.794493  0.797609  0.906465"
      ]
     },
     "metadata": {},
     "output_type": "display_data"
    }
   ],
   "source": [
    "#QDA wins \n",
    "params_display(2)"
   ]
  },
  {
   "cell_type": "code",
   "execution_count": 45,
   "id": "488c9754",
   "metadata": {},
   "outputs": [
    {
     "name": "stdout",
     "output_type": "stream",
     "text": [
      "lda     1   2   3\n",
      "row_0            \n",
      "1      54   1   4\n",
      "2       1  65   5\n",
      "3       3   8  37\n",
      "qda     1   2   3\n",
      "row_0            \n",
      "1      53   1   5\n",
      "2       1  65   5\n",
      "3       2   6  40\n",
      "nb      1   2   3\n",
      "row_0            \n",
      "1      52   3   4\n",
      "2       2  62   7\n",
      "3       3   7  38\n"
     ]
    },
    {
     "data": {
      "application/vnd.microsoft.datawrangler.viewer.v0+json": {
       "columns": [
        {
         "name": "index",
         "rawType": "object",
         "type": "string"
        },
        {
         "name": "acc",
         "rawType": "float64",
         "type": "float"
        },
        {
         "name": "fpr",
         "rawType": "float64",
         "type": "float"
        },
        {
         "name": "tpr",
         "rawType": "float64",
         "type": "float"
        },
        {
         "name": "ppv",
         "rawType": "float64",
         "type": "float"
        },
        {
         "name": "npv",
         "rawType": "float64",
         "type": "float"
        }
       ],
       "ref": "77213b44-508d-4e26-ba71-a85fc7778127",
       "rows": [
        [
         "qda",
         "0.9250936329588014",
         "0.05585124056811797",
         "0.8823771252751916",
         "0.8830687830687832",
         "0.9439052995154139"
        ],
        [
         "lda",
         "0.9176029962546816",
         "0.062318788047210256",
         "0.8671935094559826",
         "0.8712535624079852",
         "0.939102564102564"
        ],
        [
         "nb",
         "0.9026217228464418",
         "0.07336337842110245",
         "0.8487540118299249",
         "0.8496340056490433",
         "0.9265745733694195"
        ]
       ],
       "shape": {
        "columns": 5,
        "rows": 3
       }
      },
      "text/html": [
       "<div>\n",
       "<style scoped>\n",
       "    .dataframe tbody tr th:only-of-type {\n",
       "        vertical-align: middle;\n",
       "    }\n",
       "\n",
       "    .dataframe tbody tr th {\n",
       "        vertical-align: top;\n",
       "    }\n",
       "\n",
       "    .dataframe thead th {\n",
       "        text-align: right;\n",
       "    }\n",
       "</style>\n",
       "<table border=\"1\" class=\"dataframe\">\n",
       "  <thead>\n",
       "    <tr style=\"text-align: right;\">\n",
       "      <th>5 columns</th>\n",
       "      <th>acc</th>\n",
       "      <th>fpr</th>\n",
       "      <th>tpr</th>\n",
       "      <th>ppv</th>\n",
       "      <th>npv</th>\n",
       "    </tr>\n",
       "  </thead>\n",
       "  <tbody>\n",
       "    <tr>\n",
       "      <th>qda</th>\n",
       "      <td>0.925094</td>\n",
       "      <td>0.055851</td>\n",
       "      <td>0.882377</td>\n",
       "      <td>0.883069</td>\n",
       "      <td>0.943905</td>\n",
       "    </tr>\n",
       "    <tr>\n",
       "      <th>lda</th>\n",
       "      <td>0.917603</td>\n",
       "      <td>0.062319</td>\n",
       "      <td>0.867194</td>\n",
       "      <td>0.871254</td>\n",
       "      <td>0.939103</td>\n",
       "    </tr>\n",
       "    <tr>\n",
       "      <th>nb</th>\n",
       "      <td>0.902622</td>\n",
       "      <td>0.073363</td>\n",
       "      <td>0.848754</td>\n",
       "      <td>0.849634</td>\n",
       "      <td>0.926575</td>\n",
       "    </tr>\n",
       "  </tbody>\n",
       "</table>\n",
       "</div>"
      ],
      "text/plain": [
       "5 columns       acc       fpr       tpr       ppv       npv\n",
       "qda        0.925094  0.055851  0.882377  0.883069  0.943905\n",
       "lda        0.917603  0.062319  0.867194  0.871254  0.939103\n",
       "nb         0.902622  0.073363  0.848754  0.849634  0.926575"
      ]
     },
     "metadata": {},
     "output_type": "display_data"
    }
   ],
   "source": [
    "#QDA wins \n",
    "params_display(5)"
   ]
  },
  {
   "cell_type": "code",
   "execution_count": 46,
   "id": "9ea6e383",
   "metadata": {},
   "outputs": [
    {
     "name": "stdout",
     "output_type": "stream",
     "text": [
      "lda     1   2   3\n",
      "row_0            \n",
      "1      59   0   0\n",
      "2       1  70   0\n",
      "3       0   1  47\n",
      "qda     1   2   3\n",
      "row_0            \n",
      "1      59   0   0\n",
      "2       1  70   0\n",
      "3       0   0  48\n",
      "nb      1   2   3\n",
      "row_0            \n",
      "1      56   3   0\n",
      "2       2  68   1\n",
      "3       0   1  47\n"
     ]
    },
    {
     "data": {
      "application/vnd.microsoft.datawrangler.viewer.v0+json": {
       "columns": [
        {
         "name": "index",
         "rawType": "object",
         "type": "string"
        },
        {
         "name": "acc",
         "rawType": "float64",
         "type": "float"
        },
        {
         "name": "fpr",
         "rawType": "float64",
         "type": "float"
        },
        {
         "name": "tpr",
         "rawType": "float64",
         "type": "float"
        },
        {
         "name": "ppv",
         "rawType": "float64",
         "type": "float"
        },
        {
         "name": "npv",
         "rawType": "float64",
         "type": "float"
        }
       ],
       "ref": "26562ab8-a9d7-4d02-b85f-75bb3c6bc74a",
       "rows": [
        [
         "qda",
         "0.99625468164794",
         "0.0028011204481792717",
         "0.9953051643192489",
         "0.9944444444444445",
         "0.9969135802469135"
        ],
        [
         "lda",
         "0.9925093632958801",
         "0.00591638524568706",
         "0.9883607198748043",
         "0.9897496087636933",
         "0.9943402059404057"
        ],
        [
         "nb",
         "0.9737827715355806",
         "0.02062740265049226",
         "0.9620218959709291",
         "0.9630427841634738",
         "0.9796686018384131"
        ]
       ],
       "shape": {
        "columns": 5,
        "rows": 3
       }
      },
      "text/html": [
       "<div>\n",
       "<style scoped>\n",
       "    .dataframe tbody tr th:only-of-type {\n",
       "        vertical-align: middle;\n",
       "    }\n",
       "\n",
       "    .dataframe tbody tr th {\n",
       "        vertical-align: top;\n",
       "    }\n",
       "\n",
       "    .dataframe thead th {\n",
       "        text-align: right;\n",
       "    }\n",
       "</style>\n",
       "<table border=\"1\" class=\"dataframe\">\n",
       "  <thead>\n",
       "    <tr style=\"text-align: right;\">\n",
       "      <th>10 columns</th>\n",
       "      <th>acc</th>\n",
       "      <th>fpr</th>\n",
       "      <th>tpr</th>\n",
       "      <th>ppv</th>\n",
       "      <th>npv</th>\n",
       "    </tr>\n",
       "  </thead>\n",
       "  <tbody>\n",
       "    <tr>\n",
       "      <th>qda</th>\n",
       "      <td>0.996255</td>\n",
       "      <td>0.002801</td>\n",
       "      <td>0.995305</td>\n",
       "      <td>0.994444</td>\n",
       "      <td>0.996914</td>\n",
       "    </tr>\n",
       "    <tr>\n",
       "      <th>lda</th>\n",
       "      <td>0.992509</td>\n",
       "      <td>0.005916</td>\n",
       "      <td>0.988361</td>\n",
       "      <td>0.989750</td>\n",
       "      <td>0.994340</td>\n",
       "    </tr>\n",
       "    <tr>\n",
       "      <th>nb</th>\n",
       "      <td>0.973783</td>\n",
       "      <td>0.020627</td>\n",
       "      <td>0.962022</td>\n",
       "      <td>0.963043</td>\n",
       "      <td>0.979669</td>\n",
       "    </tr>\n",
       "  </tbody>\n",
       "</table>\n",
       "</div>"
      ],
      "text/plain": [
       "10 columns       acc       fpr       tpr       ppv       npv\n",
       "qda         0.996255  0.002801  0.995305  0.994444  0.996914\n",
       "lda         0.992509  0.005916  0.988361  0.989750  0.994340\n",
       "nb          0.973783  0.020627  0.962022  0.963043  0.979669"
      ]
     },
     "metadata": {},
     "output_type": "display_data"
    }
   ],
   "source": [
    "#QDA wins\n",
    "params_display(10)"
   ]
  },
  {
   "cell_type": "markdown",
   "id": "16fdf297",
   "metadata": {},
   "source": [
    "create train (50%), validation (25%), test (25%) dataset for 2 cols"
   ]
  },
  {
   "cell_type": "code",
   "execution_count": 47,
   "id": "6e34f984",
   "metadata": {},
   "outputs": [
    {
     "name": "stdout",
     "output_type": "stream",
     "text": [
      "Size:\n",
      "Train: 89\n",
      "Val: 45\n",
      "Test: 44\n"
     ]
    }
   ],
   "source": [
    "data['group']=data.index\n",
    "# (50% train, 50% rest)\n",
    "x_train, x_rest, y_train, y_rest = train_test_split(data.iloc[:,:2], data.group, test_size=0.5, stratify=data.group)\n",
    "\n",
    "# (50% test, 50% val)\n",
    "x_test, x_val, y_test, y_val = train_test_split(x_rest, y_rest, test_size=0.5, stratify=y_rest)\n",
    "\n",
    "# Check datasets sizes\n",
    "print(\"Size:\")\n",
    "print(\"Train:\", len(x_train))\n",
    "print(\"Val:\", len(x_val))\n",
    "print(\"Test:\", len(x_test))"
   ]
  },
  {
   "cell_type": "code",
   "execution_count": 48,
   "id": "69053f29",
   "metadata": {},
   "outputs": [],
   "source": [
    "# fit all models using train dataset\n",
    "for clf in [lda, qda, nb]:\n",
    "    clf.fit(x_train, y_train)"
   ]
  },
  {
   "cell_type": "code",
   "execution_count": 49,
   "id": "e0dcf43a",
   "metadata": {},
   "outputs": [
    {
     "name": "stdout",
     "output_type": "stream",
     "text": [
      "lda\n",
      "              precision    recall  f1-score   support\n",
      "\n",
      "           1       0.83      0.86      0.85        29\n",
      "           2       0.88      0.81      0.84        36\n",
      "           3       0.77      0.83      0.80        24\n",
      "\n",
      "    accuracy                           0.83        89\n",
      "   macro avg       0.83      0.83      0.83        89\n",
      "weighted avg       0.83      0.83      0.83        89\n",
      "\n",
      "qda\n",
      "              precision    recall  f1-score   support\n",
      "\n",
      "           1       0.93      0.86      0.89        29\n",
      "           2       0.92      0.92      0.92        36\n",
      "           3       0.81      0.88      0.84        24\n",
      "\n",
      "    accuracy                           0.89        89\n",
      "   macro avg       0.88      0.88      0.88        89\n",
      "weighted avg       0.89      0.89      0.89        89\n",
      "\n",
      "nb\n",
      "              precision    recall  f1-score   support\n",
      "\n",
      "           1       0.86      0.86      0.86        29\n",
      "           2       0.89      0.86      0.87        36\n",
      "           3       0.80      0.83      0.82        24\n",
      "\n",
      "    accuracy                           0.85        89\n",
      "   macro avg       0.85      0.85      0.85        89\n",
      "weighted avg       0.85      0.85      0.85        89\n",
      "\n"
     ]
    }
   ],
   "source": [
    "# results based on train dataser\n",
    "preds = pd.DataFrame(np.array([clf.predict(x_train) for clf in [lda, qda, nb]]).T)\n",
    "preds.columns = [\"lda\", \"qda\", \"nb\"] \n",
    "for i in preds.columns:\n",
    "    print(i)\n",
    "    print(metrics.classification_report(y_train, preds[i]))"
   ]
  },
  {
   "cell_type": "code",
   "execution_count": 50,
   "id": "d4816167",
   "metadata": {},
   "outputs": [
    {
     "name": "stdout",
     "output_type": "stream",
     "text": [
      "lda\n",
      "              precision    recall  f1-score   support\n",
      "\n",
      "           1       0.61      0.93      0.74        15\n",
      "           2       1.00      0.72      0.84        18\n",
      "           3       0.67      0.50      0.57        12\n",
      "\n",
      "    accuracy                           0.73        45\n",
      "   macro avg       0.76      0.72      0.72        45\n",
      "weighted avg       0.78      0.73      0.73        45\n",
      "\n",
      "qda\n",
      "              precision    recall  f1-score   support\n",
      "\n",
      "           1       0.61      0.93      0.74        15\n",
      "           2       1.00      0.78      0.88        18\n",
      "           3       0.75      0.50      0.60        12\n",
      "\n",
      "    accuracy                           0.76        45\n",
      "   macro avg       0.79      0.74      0.74        45\n",
      "weighted avg       0.80      0.76      0.76        45\n",
      "\n",
      "nb\n",
      "              precision    recall  f1-score   support\n",
      "\n",
      "           1       0.61      0.93      0.74        15\n",
      "           2       1.00      0.78      0.88        18\n",
      "           3       0.75      0.50      0.60        12\n",
      "\n",
      "    accuracy                           0.76        45\n",
      "   macro avg       0.79      0.74      0.74        45\n",
      "weighted avg       0.80      0.76      0.76        45\n",
      "\n"
     ]
    }
   ],
   "source": [
    "# results based on validation dataset\n",
    "preds = pd.DataFrame(np.array([clf.predict(x_val) for clf in [lda, qda, nb]]).T)\n",
    "preds.columns = [\"lda\", \"qda\", \"nb\"] \n",
    "for i in preds.columns:\n",
    "    print(i)\n",
    "    print(metrics.classification_report(y_val, preds[i]))"
   ]
  },
  {
   "cell_type": "markdown",
   "id": "b7e562e8",
   "metadata": {},
   "source": [
    "LDA is my choice - I create results for test group"
   ]
  },
  {
   "cell_type": "code",
   "execution_count": 51,
   "id": "bd8f63ba",
   "metadata": {},
   "outputs": [
    {
     "name": "stdout",
     "output_type": "stream",
     "text": [
      "              precision    recall  f1-score   support\n",
      "\n",
      "           1       0.93      0.87      0.90        15\n",
      "           2       0.71      0.88      0.79        17\n",
      "           3       0.56      0.42      0.48        12\n",
      "\n",
      "    accuracy                           0.75        44\n",
      "   macro avg       0.73      0.72      0.72        44\n",
      "weighted avg       0.74      0.75      0.74        44\n",
      "\n"
     ]
    }
   ],
   "source": [
    "print(metrics.classification_report(y_test, lda.predict(x_test)))"
   ]
  },
  {
   "cell_type": "code",
   "execution_count": 52,
   "id": "15b1c1a2",
   "metadata": {},
   "outputs": [
    {
     "name": "stdout",
     "output_type": "stream",
     "text": [
      "[ 0  1  2  3  4  5  6  7  8  9 10 11 12 13 14 15 16 17]\n",
      "[18 19 20 21 22 23 24 25 26 27 28 29 30 31 32 33 34 35]\n",
      "[36 37 38 39 40 41 42 43 44 45 46 47 48 49 50 51 52 53]\n",
      "[54 55 56 57 58 59 60 61 62 63 64 65 66 67 68 69 70 71]\n",
      "[72 73 74 75 76 77 78 79 80 81 82 83 84 85 86 87 88 89]\n",
      "[ 90  91  92  93  94  95  96  97  98  99 100 101 102 103 104 105 106 107]\n",
      "[108 109 110 111 112 113 114 115 116 117 118 119 120 121 122 123 124 125]\n",
      "[126 127 128 129 130 131 132 133 134 135 136 137 138 139 140 141 142 143]\n",
      "[144 145 146 147 148 149 150 151 152 153 154 155 156 157 158 159 160]\n",
      "[161 162 163 164 165 166 167 168 169 170 171 172 173 174 175 176 177]\n"
     ]
    }
   ],
   "source": [
    "# using KFold method \n",
    "kf = KFold(n_splits = 10)\n",
    "\n",
    "for train, test in kf.split(data[[\"alcohol\",\"malic_acid\"]]):\n",
    "    print(test)"
   ]
  },
  {
   "cell_type": "code",
   "execution_count": 53,
   "id": "cee6cf07",
   "metadata": {},
   "outputs": [
    {
     "data": {
      "image/png": "[encoded data removed]",
      "text/plain": [
       "<Figure size 1000x500 with 1 Axes>"
      ]
     },
     "metadata": {},
     "output_type": "display_data"
    }
   ],
   "source": [
    "fig, ax = plt.subplots(figsize=(10,5))\n",
    "\n",
    "for i, (train, test) in enumerate(kf.split(data[[\"alcohol\",\"malic_acid\"]])):\n",
    "    ax.scatter(test, np.tile(i, len(test)), color = \"blue\", marker = \"_\", lw = 5)\n",
    "    ax.scatter(train, np.tile(i, len(train)), color = \"orange\", marker = \"_\", lw = 5)\n",
    "\n",
    "ax.set(yticks=np.arange(5),yticklabels=np.arange(1,6));\n",
    "\n",
    "plt.show()"
   ]
  },
  {
   "cell_type": "code",
   "execution_count": 54,
   "id": "965cb304",
   "metadata": {},
   "outputs": [
    {
     "name": "stdout",
     "output_type": "stream",
     "text": [
      "[0.88888889 0.77777778 0.55555556 0.77777778 0.72222222 1.\n",
      " 0.77777778 0.72222222 0.47058824 0.52941176]\n",
      "0.72\n"
     ]
    }
   ],
   "source": [
    "#cross validation\n",
    "cvs = cross_val_score(lda, data[[\"alcohol\",\"malic_acid\"]], data.group, cv = kf)\n",
    "print(cvs)\n",
    "print(round(cvs.mean(),2))"
   ]
  },
  {
   "cell_type": "code",
   "execution_count": null,
   "id": "fab3b892",
   "metadata": {},
   "outputs": [
    {
     "data": {
      "image/png": "[encoded data removed]",
      "text/plain": [
       "<Figure size 640x480 with 1 Axes>"
      ]
     },
     "metadata": {},
     "output_type": "display_data"
    }
   ],
   "source": [
    "#testing 2 to 40 folds\n",
    "# \n",
    "def test(clf, data, m, n):\n",
    "    kf = RepeatedKFold(n_repeats = m, n_splits = n)\n",
    "    score = cross_val_score(clf, data[[\"alcohol\",\"malic_acid\"]], data.group, cv = kf)\n",
    "    return score.mean(), score.std()\n",
    "folds = range(2,31)  \n",
    "z = np.array([test(lda, data, 5, i) for i in folds])\n",
    "\n",
    "plt.errorbar(folds, z[:,0], yerr = z[:,1], fmt=\"o\", capsize=4)\n",
    "plt.plot(folds, [np.mean(z[:,0]) for _ in range(len(folds))], color='r')\n",
    "plt.show()"
   ]
  },
  {
   "cell_type": "markdown",
   "id": "78e9f4be",
   "metadata": {},
   "source": [
    "result: in this case there's no need to use high K, k==3 is probably enough"
   ]
  }
 ],
 "metadata": {
  "kernelspec": {
   "display_name": "venv",
   "language": "python",
   "name": "python3"
  },
  "language_info": {
   "codemirror_mode": {
    "name": "ipython",
    "version": 3
   },
   "file_extension": ".py",
   "mimetype": "text/x-python",
   "name": "python",
   "nbconvert_exporter": "python",
   "pygments_lexer": "ipython3",
   "version": "3.11.5"
  }
 },
 "nbformat": 4,
 "nbformat_minor": 5
}
