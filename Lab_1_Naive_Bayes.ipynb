{
 "cells": [
  {
   "cell_type": "markdown",
   "id": "21ec4d26",
   "metadata": {},
   "source": [
    "Using the fact that in the case of a naive Bayes classifier for a two-dimensional vector of observations x=(x, y)\n",
    "\n",
    "p(X|1)=p(x|1)*p(y|1)\n",
    "\n",
    "assuming that the probability density of each class is described by a Gaussian distribution, demonstrate graphically the equivalence between this approach and the results obtained using the DecisionBoundaryDisplay.from_estimator() function"
   ]
  },
  {
   "cell_type": "code",
   "execution_count": 1,
   "id": "b51f4f7b",
   "metadata": {},
   "outputs": [],
   "source": [
    "# importing libraries\n",
    "from sklearn.naive_bayes import GaussianNB\n",
    "from sklearn.inspection import DecisionBoundaryDisplay\n",
    "\n",
    "from scipy.stats import norm\n",
    "from scipy.stats import multivariate_normal as mvnorm\n",
    "\n",
    "import numpy as np\n",
    "import pandas as pd\n",
    "import seaborn as sns\n",
    "import matplotlib.pyplot as plt"
   ]
  },
  {
   "cell_type": "code",
   "execution_count": 23,
   "id": "e62c4b0b",
   "metadata": {},
   "outputs": [
    {
     "data": {
      "application/vnd.microsoft.datawrangler.viewer.v0+json": {
       "columns": [
        {
         "name": "index",
         "rawType": "int64",
         "type": "integer"
        },
        {
         "name": "x",
         "rawType": "float64",
         "type": "float"
        },
        {
         "name": "y",
         "rawType": "float64",
         "type": "float"
        },
        {
         "name": "group",
         "rawType": "int64",
         "type": "integer"
        }
       ],
       "ref": "634d34c5-55c3-4034-9ed6-ddfef114c078",
       "rows": [
        [
         "0",
         "0.7881863330321681",
         "0.14842262326257183",
         "0"
        ],
        [
         "1",
         "-2.1765767551040534",
         "-2.5013164810383404",
         "0"
        ],
        [
         "2",
         "-5.840340366304109",
         "-1.8793585776973938",
         "0"
        ],
        [
         "3",
         "-4.699199088023983",
         "-0.6377576206296969",
         "0"
        ],
        [
         "4",
         "-4.470219853120126",
         "-4.937496393862811",
         "0"
        ],
        [
         "5",
         "-2.9987638894722175",
         "0.9573038950165638",
         "0"
        ],
        [
         "6",
         "-4.695588676545819",
         "3.8744147848385566",
         "0"
        ],
        [
         "7",
         "-5.422407990640423",
         "-1.0864912032458776",
         "0"
        ],
        [
         "8",
         "-1.3609470245849296",
         "-3.9150958968578666",
         "0"
        ],
        [
         "9",
         "-5.351033308420531",
         "-1.0531354781919544",
         "0"
        ],
        [
         "10",
         "-5.025673380648077",
         "1.0543450221516233",
         "0"
        ],
        [
         "11",
         "1.1292719675116816",
         "-1.805178341191616",
         "0"
        ],
        [
         "12",
         "-3.4117322349683414",
         "1.0756587022445405",
         "0"
        ],
        [
         "13",
         "-6.2264512130359275",
         "-1.624866857891937",
         "0"
        ],
        [
         "14",
         "-1.3734230632824624",
         "-0.2523809174849717",
         "0"
        ],
        [
         "15",
         "-1.7247104204901471",
         "-0.9583150909346537",
         "0"
        ],
        [
         "16",
         "-6.09593589117512",
         "4.794023424381279",
         "0"
        ],
        [
         "17",
         "-4.227134852953174",
         "-4.047506558174845",
         "0"
        ],
        [
         "18",
         "0.9108247047763061",
         "0.09041486334694682",
         "0"
        ],
        [
         "19",
         "-5.948558949776013",
         "-2.2543499755828975",
         "0"
        ],
        [
         "20",
         "-1.7815451685520456",
         "-1.6197580651414039",
         "0"
        ],
        [
         "21",
         "-2.4390113403992837",
         "0.524914190787628",
         "0"
        ],
        [
         "22",
         "-3.438034354504016",
         "0.7572663222676781",
         "0"
        ],
        [
         "23",
         "-2.166469659789028",
         "-3.8742966353089137",
         "0"
        ],
        [
         "24",
         "0.6960089460796755",
         "1.4741366943811918",
         "0"
        ],
        [
         "25",
         "-2.1733687132033173",
         "3.9719355545413393",
         "0"
        ],
        [
         "26",
         "-3.268366279769232",
         "-0.9042374311195247",
         "0"
        ],
        [
         "27",
         "-2.7579897711724057",
         "1.0791953453750187",
         "0"
        ],
        [
         "28",
         "-3.596388481268335",
         "-2.6022674579869034",
         "0"
        ],
        [
         "29",
         "-3.555590244956651",
         "3.9081495447755925",
         "0"
        ],
        [
         "30",
         "-2.9460749506469504",
         "-2.227266715968825",
         "0"
        ],
        [
         "31",
         "-4.872186785132442",
         "-1.695639186526154",
         "0"
        ],
        [
         "32",
         "-2.108980802821066",
         "1.041976147300093",
         "0"
        ],
        [
         "33",
         "-1.2767209730462528",
         "-1.3843446350797275",
         "0"
        ],
        [
         "34",
         "-3.25255304937731",
         "-1.062529385048997",
         "0"
        ],
        [
         "35",
         "-1.7647767163522747",
         "-3.8643643999126747",
         "0"
        ],
        [
         "36",
         "-4.014747911762193",
         "-0.8971446110586606",
         "0"
        ],
        [
         "37",
         "-1.9390262622639638",
         "-1.6787506757039972",
         "0"
        ],
        [
         "38",
         "-4.912348871449778",
         "-0.6238701303808556",
         "0"
        ],
        [
         "39",
         "-2.3956799018560764",
         "-0.14929548199983655",
         "0"
        ],
        [
         "40",
         "0.024312140972015284",
         "0.19656729814136464",
         "1"
        ],
        [
         "41",
         "-0.2319192650730808",
         "4.218217344249537",
         "1"
        ],
        [
         "42",
         "3.8909216864233436",
         "7.698814012029033",
         "1"
        ],
        [
         "43",
         "-1.2757282497296805",
         "-1.1336219422575655",
         "1"
        ],
        [
         "44",
         "1.5641238439195222",
         "3.239442296782533",
         "1"
        ],
        [
         "45",
         "3.5611337263626597",
         "0.04510684401733411",
         "1"
        ],
        [
         "46",
         "2.9811335982122853",
         "2.633143067666063",
         "1"
        ],
        [
         "47",
         "-0.2456284100401409",
         "1.811082440174987",
         "1"
        ],
        [
         "48",
         "-0.8271799611072752",
         "0.8925832762253516",
         "1"
        ],
        [
         "49",
         "2.4434924005395118",
         "-0.3048648038513857",
         "1"
        ]
       ],
       "shape": {
        "columns": 3,
        "rows": 70
       }
      },
      "text/html": [
       "<div>\n",
       "<style scoped>\n",
       "    .dataframe tbody tr th:only-of-type {\n",
       "        vertical-align: middle;\n",
       "    }\n",
       "\n",
       "    .dataframe tbody tr th {\n",
       "        vertical-align: top;\n",
       "    }\n",
       "\n",
       "    .dataframe thead th {\n",
       "        text-align: right;\n",
       "    }\n",
       "</style>\n",
       "<table border=\"1\" class=\"dataframe\">\n",
       "  <thead>\n",
       "    <tr style=\"text-align: right;\">\n",
       "      <th></th>\n",
       "      <th>x</th>\n",
       "      <th>y</th>\n",
       "      <th>group</th>\n",
       "    </tr>\n",
       "  </thead>\n",
       "  <tbody>\n",
       "    <tr>\n",
       "      <th>0</th>\n",
       "      <td>0.788186</td>\n",
       "      <td>0.148423</td>\n",
       "      <td>0</td>\n",
       "    </tr>\n",
       "    <tr>\n",
       "      <th>1</th>\n",
       "      <td>-2.176577</td>\n",
       "      <td>-2.501316</td>\n",
       "      <td>0</td>\n",
       "    </tr>\n",
       "    <tr>\n",
       "      <th>2</th>\n",
       "      <td>-5.840340</td>\n",
       "      <td>-1.879359</td>\n",
       "      <td>0</td>\n",
       "    </tr>\n",
       "    <tr>\n",
       "      <th>3</th>\n",
       "      <td>-4.699199</td>\n",
       "      <td>-0.637758</td>\n",
       "      <td>0</td>\n",
       "    </tr>\n",
       "    <tr>\n",
       "      <th>4</th>\n",
       "      <td>-4.470220</td>\n",
       "      <td>-4.937496</td>\n",
       "      <td>0</td>\n",
       "    </tr>\n",
       "    <tr>\n",
       "      <th>...</th>\n",
       "      <td>...</td>\n",
       "      <td>...</td>\n",
       "      <td>...</td>\n",
       "    </tr>\n",
       "    <tr>\n",
       "      <th>65</th>\n",
       "      <td>4.342543</td>\n",
       "      <td>2.807712</td>\n",
       "      <td>1</td>\n",
       "    </tr>\n",
       "    <tr>\n",
       "      <th>66</th>\n",
       "      <td>4.147786</td>\n",
       "      <td>3.155805</td>\n",
       "      <td>1</td>\n",
       "    </tr>\n",
       "    <tr>\n",
       "      <th>67</th>\n",
       "      <td>2.883882</td>\n",
       "      <td>2.558830</td>\n",
       "      <td>1</td>\n",
       "    </tr>\n",
       "    <tr>\n",
       "      <th>68</th>\n",
       "      <td>3.275515</td>\n",
       "      <td>3.136733</td>\n",
       "      <td>1</td>\n",
       "    </tr>\n",
       "    <tr>\n",
       "      <th>69</th>\n",
       "      <td>1.053851</td>\n",
       "      <td>0.897189</td>\n",
       "      <td>1</td>\n",
       "    </tr>\n",
       "  </tbody>\n",
       "</table>\n",
       "<p>70 rows × 3 columns</p>\n",
       "</div>"
      ],
      "text/plain": [
       "           x         y  group\n",
       "0   0.788186  0.148423      0\n",
       "1  -2.176577 -2.501316      0\n",
       "2  -5.840340 -1.879359      0\n",
       "3  -4.699199 -0.637758      0\n",
       "4  -4.470220 -4.937496      0\n",
       "..       ...       ...    ...\n",
       "65  4.342543  2.807712      1\n",
       "66  4.147786  3.155805      1\n",
       "67  2.883882  2.558830      1\n",
       "68  3.275515  3.136733      1\n",
       "69  1.053851  0.897189      1\n",
       "\n",
       "[70 rows x 3 columns]"
      ]
     },
     "execution_count": 23,
     "metadata": {},
     "output_type": "execute_result"
    }
   ],
   "source": [
    "#create data from two classes\n",
    "def create_data(n1, n2, m1, m2, S1, S2):\n",
    "\n",
    "    data1 = np.random.multivariate_normal(m1, S1, n1)\n",
    "    data2 = np.random.multivariate_normal(m2, S2, n2)\n",
    "\n",
    "    data = np.concatenate((data1, data2), axis = 0)\n",
    "    data = pd.DataFrame(data, columns=[\"x\", \"y\"])\n",
    "\n",
    "    data[\"group\"] = np.repeat([0, 1], [n1, n2])\n",
    "    \n",
    "    return data\n",
    "\n",
    "m1, m2 = [-3, -1], [2, 2] #mean\n",
    "S1 = [[4, 0], [0, 4]] #covariance matrix\n",
    "S2 = S1\n",
    "n1, n2 = 40, 30 #number of points\n",
    "\n",
    "data = create_data(n1, n2, m1, m2, S1, S2)\n",
    "data"
   ]
  },
  {
   "cell_type": "code",
   "execution_count": 27,
   "id": "084b0516",
   "metadata": {},
   "outputs": [
    {
     "data": {
      "image/png": "[encoded data removed]",
      "text/plain": [
       "<Figure size 640x480 with 1 Axes>"
      ]
     },
     "metadata": {},
     "output_type": "display_data"
    }
   ],
   "source": [
    "#naive bayess classifier\n",
    "nb = GaussianNB()\n",
    "nb.fit(data[[\"x\",\"y\"]], data.group)\n",
    "\n",
    "data_comp = pd.DataFrame({'org': data.group, 'pred': nb.predict(data[[\"x\",\"y\"]])})\n",
    "\n",
    "#show estimated class boundary\n",
    "disp = DecisionBoundaryDisplay.from_estimator(nb, data[[\"x\",\"y\"]], response_method=\"predict\", \n",
    "                                                alpha=0.4, cmap=plt.cm.coolwarm, grid_resolution=200)\n",
    "                                     \n",
    "plt.scatter(data.x, data.y, c=data[\"group\"], edgecolor=\"k\", cmap=plt.cm.coolwarm)\n",
    "                                    \n",
    "plt.show()"
   ]
  },
  {
   "cell_type": "code",
   "execution_count": 40,
   "id": "2b0416d4",
   "metadata": {},
   "outputs": [
    {
     "data": {
      "image/png": "[encoded data removed]",
      "text/plain": [
       "<Figure size 640x480 with 1 Axes>"
      ]
     },
     "metadata": {},
     "output_type": "display_data"
    }
   ],
   "source": [
    "x, y = np.mgrid[-10:10:.05, -10:10:.05]\n",
    "data_grid = pd.DataFrame({'x': x.ravel(), 'y': y.ravel()})\n",
    "\n",
    "Z = nb.predict_proba(data_grid)[:,0].reshape(x.shape)\n",
    "\n",
    "contours = plt.contour(x, y, Z,10)\n",
    "plt.clabel(contours, inline=True, fontsize=8)\n",
    "\n",
    "plt.show()"
   ]
  },
  {
   "cell_type": "markdown",
   "id": "adb8853b",
   "metadata": {},
   "source": [
    "I'm using Bayes Theorem:\n",
    "$$ p(k|X) = \\frac{\\pi _k p(X|k)}{\\sum _{r=1} ^ {g} \\pi _r p(X|r)} $$\n",
    "where \n",
    "$p(X|k)$ is the density function of X that comes for kth class\n",
    "$\\pi _k$ is the overall (or prior) probability that a randomly chosen\n",
    "observation comes from kth class\n",
    "\n"
   ]
  },
  {
   "cell_type": "markdown",
   "id": "ab6327e7",
   "metadata": {},
   "source": [
    "naive assumption: x and y are independent\n",
    "$$ p(X|1)=p(x|1)*p(y|1) $$\n",
    "\n"
   ]
  },
  {
   "cell_type": "markdown",
   "id": "43fc29f1",
   "metadata": {},
   "source": [
    "my final equation for 2 classes is\n",
    "$$ p(0|X) = \\frac{\\pi _0 * p(x|0)*p(y|0)}{\\pi _0* p(x|0)*p(y|0) + \\pi _1 *p(x|1)*p(y|1)}  $$\n"
   ]
  },
  {
   "cell_type": "code",
   "execution_count": null,
   "id": "629cd9f4",
   "metadata": {},
   "outputs": [],
   "source": [
    "#create my own version of DecisionBoundaryDisplay based on math behing NB classifier \n",
    "def own_nb(X, pi0, pi1, mh, sh):\n",
    "  n0x=norm.pdf(X[\"x\"], mh.loc[0]['x'], sh.loc[0]['x'])\n",
    "  n0y=norm.pdf(X[\"y\"], mh.loc[0]['y'], sh.loc[0]['y'])\n",
    "  n1x=norm.pdf(X[\"x\"], mh.loc[1]['x'], sh.loc[1]['x'])\n",
    "  n1y=norm.pdf(X[\"y\"], mh.loc[1]['y'], sh.loc[1]['y'])\n",
    "\n",
    "  return pi0*n0x*n0y/(pi0 * n0x*n0y + pi1 * n1x*n1y)\n",
    "\n",
    "X=data[[\"x\", \"y\"]]\n",
    "\n",
    "mh = data.groupby(\"group\").mean()\n",
    "sh = data.groupby(\"group\").std()\n",
    "\n",
    "nn = n1 + n2\n",
    "pi0=n1/nn\n",
    "pi1=n2/nn\n",
    "\n",
    "\n",
    "data_comp[\"pred_own\"] = np.round(own_nb(X, pi0, pi1, mh, sh), 4)"
   ]
  },
  {
   "cell_type": "code",
   "execution_count": 68,
   "id": "4689a373",
   "metadata": {},
   "outputs": [
    {
     "data": {
      "application/vnd.microsoft.datawrangler.viewer.v0+json": {
       "columns": [
        {
         "name": "index",
         "rawType": "int64",
         "type": "integer"
        },
        {
         "name": "org",
         "rawType": "int64",
         "type": "integer"
        },
        {
         "name": "pred",
         "rawType": "int64",
         "type": "integer"
        },
        {
         "name": "pred_own",
         "rawType": "float64",
         "type": "float"
        }
       ],
       "ref": "16f93ae3-34f6-4a84-ad91-2d6fede01b0e",
       "rows": [
        [
         "0",
         "0",
         "1",
         "0.2016"
        ],
        [
         "1",
         "0",
         "0",
         "0.9749"
        ],
        [
         "2",
         "0",
         "0",
         "0.9996"
        ],
        [
         "3",
         "0",
         "0",
         "0.9968"
        ],
        [
         "4",
         "0",
         "0",
         "0.9996"
        ],
        [
         "5",
         "0",
         "0",
         "0.9483"
        ],
        [
         "6",
         "0",
         "0",
         "0.9758"
        ],
        [
         "7",
         "0",
         "0",
         "0.999"
        ],
        [
         "8",
         "0",
         "0",
         "0.9692"
        ],
        [
         "9",
         "0",
         "0",
         "0.9988"
        ],
        [
         "10",
         "0",
         "0",
         "0.9952"
        ],
        [
         "11",
         "0",
         "1",
         "0.3086"
        ],
        [
         "12",
         "0",
         "0",
         "0.9664"
        ],
        [
         "13",
         "0",
         "0",
         "0.9997"
        ],
        [
         "14",
         "0",
         "0",
         "0.8174"
        ],
        [
         "15",
         "0",
         "0",
         "0.9078"
        ],
        [
         "16",
         "0",
         "0",
         "0.9935"
        ],
        [
         "17",
         "0",
         "0",
         "0.9991"
        ],
        [
         "18",
         "0",
         "1",
         "0.1823"
        ],
        [
         "19",
         "0",
         "0",
         "0.9997"
        ],
        [
         "20",
         "0",
         "0",
         "0.9371"
        ],
        [
         "21",
         "0",
         "0",
         "0.919"
        ],
        [
         "22",
         "0",
         "0",
         "0.9718"
        ],
        [
         "23",
         "0",
         "0",
         "0.9881"
        ],
        [
         "24",
         "0",
         "1",
         "0.1315"
        ],
        [
         "25",
         "0",
         "0",
         "0.6418"
        ],
        [
         "26",
         "0",
         "0",
         "0.9845"
        ],
        [
         "27",
         "0",
         "0",
         "0.9281"
        ],
        [
         "28",
         "0",
         "0",
         "0.9957"
        ],
        [
         "29",
         "0",
         "0",
         "0.9088"
        ],
        [
         "30",
         "0",
         "0",
         "0.9885"
        ],
        [
         "31",
         "0",
         "0",
         "0.9985"
        ],
        [
         "32",
         "0",
         "0",
         "0.8557"
        ],
        [
         "33",
         "0",
         "0",
         "0.876"
        ],
        [
         "34",
         "0",
         "0",
         "0.9854"
        ],
        [
         "35",
         "0",
         "0",
         "0.9805"
        ],
        [
         "36",
         "0",
         "0",
         "0.9937"
        ],
        [
         "37",
         "0",
         "0",
         "0.9491"
        ],
        [
         "38",
         "0",
         "0",
         "0.9975"
        ],
        [
         "39",
         "0",
         "0",
         "0.9373"
        ],
        [
         "40",
         "1",
         "1",
         "0.3894"
        ],
        [
         "41",
         "1",
         "1",
         "0.129"
        ],
        [
         "42",
         "1",
         "1",
         "0.0002"
        ],
        [
         "43",
         "1",
         "0",
         "0.8611"
        ],
        [
         "44",
         "1",
         "1",
         "0.0231"
        ],
        [
         "45",
         "1",
         "1",
         "0.0081"
        ],
        [
         "46",
         "1",
         "1",
         "0.0051"
        ],
        [
         "47",
         "1",
         "1",
         "0.2949"
        ],
        [
         "48",
         "1",
         "0",
         "0.5674"
        ],
        [
         "49",
         "1",
         "1",
         "0.0383"
        ]
       ],
       "shape": {
        "columns": 3,
        "rows": 70
       }
      },
      "text/html": [
       "<div>\n",
       "<style scoped>\n",
       "    .dataframe tbody tr th:only-of-type {\n",
       "        vertical-align: middle;\n",
       "    }\n",
       "\n",
       "    .dataframe tbody tr th {\n",
       "        vertical-align: top;\n",
       "    }\n",
       "\n",
       "    .dataframe thead th {\n",
       "        text-align: right;\n",
       "    }\n",
       "</style>\n",
       "<table border=\"1\" class=\"dataframe\">\n",
       "  <thead>\n",
       "    <tr style=\"text-align: right;\">\n",
       "      <th></th>\n",
       "      <th>org</th>\n",
       "      <th>pred</th>\n",
       "      <th>pred_own</th>\n",
       "    </tr>\n",
       "  </thead>\n",
       "  <tbody>\n",
       "    <tr>\n",
       "      <th>0</th>\n",
       "      <td>0</td>\n",
       "      <td>1</td>\n",
       "      <td>0.2016</td>\n",
       "    </tr>\n",
       "    <tr>\n",
       "      <th>1</th>\n",
       "      <td>0</td>\n",
       "      <td>0</td>\n",
       "      <td>0.9749</td>\n",
       "    </tr>\n",
       "    <tr>\n",
       "      <th>2</th>\n",
       "      <td>0</td>\n",
       "      <td>0</td>\n",
       "      <td>0.9996</td>\n",
       "    </tr>\n",
       "    <tr>\n",
       "      <th>3</th>\n",
       "      <td>0</td>\n",
       "      <td>0</td>\n",
       "      <td>0.9968</td>\n",
       "    </tr>\n",
       "    <tr>\n",
       "      <th>4</th>\n",
       "      <td>0</td>\n",
       "      <td>0</td>\n",
       "      <td>0.9996</td>\n",
       "    </tr>\n",
       "    <tr>\n",
       "      <th>...</th>\n",
       "      <td>...</td>\n",
       "      <td>...</td>\n",
       "      <td>...</td>\n",
       "    </tr>\n",
       "    <tr>\n",
       "      <th>65</th>\n",
       "      <td>1</td>\n",
       "      <td>1</td>\n",
       "      <td>0.0009</td>\n",
       "    </tr>\n",
       "    <tr>\n",
       "      <th>66</th>\n",
       "      <td>1</td>\n",
       "      <td>1</td>\n",
       "      <td>0.0009</td>\n",
       "    </tr>\n",
       "    <tr>\n",
       "      <th>67</th>\n",
       "      <td>1</td>\n",
       "      <td>1</td>\n",
       "      <td>0.0060</td>\n",
       "    </tr>\n",
       "    <tr>\n",
       "      <th>68</th>\n",
       "      <td>1</td>\n",
       "      <td>1</td>\n",
       "      <td>0.0029</td>\n",
       "    </tr>\n",
       "    <tr>\n",
       "      <th>69</th>\n",
       "      <td>1</td>\n",
       "      <td>1</td>\n",
       "      <td>0.1125</td>\n",
       "    </tr>\n",
       "  </tbody>\n",
       "</table>\n",
       "<p>70 rows × 3 columns</p>\n",
       "</div>"
      ],
      "text/plain": [
       "    org  pred  pred_own\n",
       "0     0     1    0.2016\n",
       "1     0     0    0.9749\n",
       "2     0     0    0.9996\n",
       "3     0     0    0.9968\n",
       "4     0     0    0.9996\n",
       "..  ...   ...       ...\n",
       "65    1     1    0.0009\n",
       "66    1     1    0.0009\n",
       "67    1     1    0.0060\n",
       "68    1     1    0.0029\n",
       "69    1     1    0.1125\n",
       "\n",
       "[70 rows x 3 columns]"
      ]
     },
     "execution_count": 68,
     "metadata": {},
     "output_type": "execute_result"
    }
   ],
   "source": [
    "data_comp"
   ]
  },
  {
   "cell_type": "code",
   "execution_count": null,
   "id": "2b90dabe",
   "metadata": {},
   "outputs": [
    {
     "data": {
      "image/png": "[encoded data removed]",
      "text/plain": [
       "<Figure size 640x480 with 1 Axes>"
      ]
     },
     "metadata": {},
     "output_type": "display_data"
    }
   ],
   "source": [
    "ZNb = own_nb(data_grid[[\"x\",\"y\"]],pi1, pi2, mh, sh).reshape(x.shape)\n",
    "\n",
    "disp = DecisionBoundaryDisplay.from_estimator(nb, data[[\"x\",\"y\"]], response_method=\"predict\", \n",
    "                                              alpha=0.4, cmap=plt.cm.coolwarm, grid_resolution=200)\n",
    "                                              \n",
    "xmin, xmax = disp.ax_.get_xlim()\n",
    "ymin, ymax = disp.ax_.get_ylim()\n",
    "\n",
    "plt.scatter(data.x, data.y, c=data[\"group\"], edgecolor=\"k\", cmap=plt.cm.coolwarm)\n",
    "plt.contour(x, y, ZNb, [0.5],  linewidths=2.0, colors=\"red\")\n",
    "\n",
    "disp.ax_.set_xlim((xmin, xmax));\n",
    "disp.ax_.set_ylim((ymin, ymax));\n",
    "\n",
    "plt.show()"
   ]
  }
 ],
 "metadata": {
  "kernelspec": {
   "display_name": "venv",
   "language": "python",
   "name": "python3"
  },
  "language_info": {
   "codemirror_mode": {
    "name": "ipython",
    "version": 3
   },
   "file_extension": ".py",
   "mimetype": "text/x-python",
   "name": "python",
   "nbconvert_exporter": "python",
   "pygments_lexer": "ipython3",
   "version": "3.11.5"
  }
 },
 "nbformat": 4,
 "nbformat_minor": 5
}
